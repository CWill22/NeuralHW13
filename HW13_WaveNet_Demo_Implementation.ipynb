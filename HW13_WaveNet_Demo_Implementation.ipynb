{
  "nbformat": 4,
  "nbformat_minor": 0,
  "metadata": {
    "colab": {
      "provenance": [],
      "gpuType": "T4",
      "include_colab_link": true
    },
    "kernelspec": {
      "name": "python3",
      "display_name": "Python 3"
    },
    "language_info": {
      "name": "python"
    },
    "accelerator": "GPU"
  },
  "cells": [
    {
      "cell_type": "markdown",
      "metadata": {
        "id": "view-in-github",
        "colab_type": "text"
      },
      "source": [
        "<a href=\"https://colab.research.google.com/github/CWill22/NeuralHW13/blob/main/HW13_WaveNet_Demo_Implementation.ipynb\" target=\"_parent\"><img src=\"https://colab.research.google.com/assets/colab-badge.svg\" alt=\"Open In Colab\"/></a>"
      ]
    },
    {
      "cell_type": "code",
      "execution_count": null,
      "metadata": {
        "colab": {
          "base_uri": "https://localhost:8080/"
        },
        "id": "TC65sXgPFxy8",
        "outputId": "7c826e52-a04d-429f-ca0f-1979e86bb831"
      },
      "outputs": [
        {
          "output_type": "stream",
          "name": "stdout",
          "text": [
            "Using device: cuda\n"
          ]
        }
      ],
      "source": [
        "import torch\n",
        "import torch.nn as nn\n",
        "import torch.nn.functional as F\n",
        "import numpy as np\n",
        "import matplotlib.pyplot as plt\n",
        "\n",
        "# Check for GPU\n",
        "device = torch.device(\"cuda\" if torch.cuda.is_available() else \"cpu\") # cuda means it is using a GPU\n",
        "print(f\"Using device: {device}\")"
      ]
    },
    {
      "cell_type": "code",
      "source": [
        "# Generate a 1-second sine wave (440Hz)\n",
        "def generate_sine_wave(seq_len=16000, freq=440, sample_rate=16000):\n",
        "    t = np.linspace(0, 1, seq_len)\n",
        "    return np.sin(2 * np.pi * freq * t).astype(np.float32)\n",
        "\n",
        "# Prepare input and target tensors\n",
        "wave = generate_sine_wave()\n",
        "X = torch.tensor(wave[:-1]).unsqueeze(0).unsqueeze(0)  # (batch, channel, time)\n",
        "Y = torch.tensor(wave[1:]).unsqueeze(0).unsqueeze(0)   # shifted target\n",
        "\n",
        "X, Y = X.to(device), Y.to(device)"
      ],
      "metadata": {
        "id": "tbgJIyfFF8y_"
      },
      "execution_count": null,
      "outputs": []
    },
    {
      "cell_type": "code",
      "source": [
        "# Causal Convolution Layer\n",
        "class CausalConv1d(nn.Module):\n",
        "    def __init__(self, in_channels, out_channels, kernel_size, dilation):\n",
        "        super().__init__()\n",
        "        self.pad = (kernel_size - 1) * dilation\n",
        "        self.conv = nn.Conv1d(in_channels, out_channels, kernel_size,\n",
        "                              padding=self.pad, dilation=dilation)\n",
        "\n",
        "    def forward(self, x):\n",
        "        out = self.conv(x)\n",
        "        return out[:, :, :-self.pad]\n",
        "\n",
        "# Mini WaveNet Model\n",
        "class SimpleWaveNet(nn.Module):\n",
        "    def __init__(self, residual_channels=32, skip_channels=64, dilation_depth=5):\n",
        "        super().__init__()\n",
        "        self.dilated_layers = nn.ModuleList()\n",
        "        self.skip_conns = nn.ModuleList()\n",
        "\n",
        "        for i in range(dilation_depth):\n",
        "            dilation = 2 ** i\n",
        "            self.dilated_layers.append(CausalConv1d(1 if i == 0 else residual_channels,\n",
        "                                                    residual_channels, kernel_size=2, dilation=dilation))\n",
        "            self.skip_conns.append(nn.Conv1d(residual_channels, skip_channels, 1))\n",
        "\n",
        "        self.output = nn.Sequential(\n",
        "            nn.ReLU(),\n",
        "            nn.Conv1d(skip_channels, skip_channels, 1),\n",
        "            nn.ReLU(),\n",
        "            nn.Conv1d(skip_channels, 1, 1)\n",
        "        )\n",
        "\n",
        "    def forward(self, x):\n",
        "        skip = 0\n",
        "        for layer, skip_conn in zip(self.dilated_layers, self.skip_conns):\n",
        "            x = torch.tanh(layer(x))\n",
        "            skip += skip_conn(x)\n",
        "        return self.output(skip)"
      ],
      "metadata": {
        "id": "daN46GYdF-1i"
      },
      "execution_count": null,
      "outputs": []
    },
    {
      "cell_type": "code",
      "source": [
        "model = SimpleWaveNet().to(device)\n",
        "optimizer = torch.optim.Adam(model.parameters(), lr=0.001)\n",
        "loss_fn = nn.MSELoss()\n",
        "\n",
        "# Training\n",
        "for epoch in range(2):\n",
        "    model.train()\n",
        "    optimizer.zero_grad()\n",
        "    output = model(X)\n",
        "    loss = loss_fn(output, Y)\n",
        "    loss.backward()\n",
        "    optimizer.step()\n",
        "    print(f\"Epoch {epoch+1}, Loss: {loss.item():.6f}\")\n"
      ],
      "metadata": {
        "colab": {
          "base_uri": "https://localhost:8080/"
        },
        "id": "yRkks5hrGAl_",
        "outputId": "f84659ac-8985-4fec-9e39-8e174b030d30"
      },
      "execution_count": null,
      "outputs": [
        {
          "output_type": "stream",
          "name": "stdout",
          "text": [
            "Epoch 1, Loss: 0.538150\n",
            "Epoch 2, Loss: 0.472624\n"
          ]
        }
      ]
    },
    {
      "cell_type": "code",
      "source": [
        "# Generate an audio sample step-by-step\n",
        "model.eval()\n",
        "initial_input = X[:, :, :1]  # one sample to start\n",
        "generated = [initial_input.squeeze().item()]\n",
        "\n",
        "with torch.no_grad():\n",
        "    current_input = initial_input\n",
        "    for _ in range(1000):\n",
        "        out = model(current_input)\n",
        "        next_sample = out[:, :, -1:].detach()\n",
        "        generated.append(next_sample.squeeze().item())\n",
        "        current_input = torch.cat([current_input, next_sample], dim=2)"
      ],
      "metadata": {
        "id": "CMW8KlmvGFXO"
      },
      "execution_count": null,
      "outputs": []
    },
    {
      "cell_type": "code",
      "source": [
        "plt.figure(figsize=(12, 4))\n",
        "plt.plot(generated)\n",
        "plt.title(\"Generated Waveform After 2 Epochs\")\n",
        "plt.xlabel(\"Time step\")\n",
        "plt.ylabel(\"Amplitude\")\n",
        "plt.grid(True)\n",
        "plt.show()"
      ],
      "metadata": {
        "colab": {
          "base_uri": "https://localhost:8080/",
          "height": 410
        },
        "id": "Yp_9XUnGGIJZ",
        "outputId": "14a99b16-a59d-4f88-d5ac-bd918a68ca34"
      },
      "execution_count": null,
      "outputs": [
        {
          "output_type": "display_data",
          "data": {
            "text/plain": [
              "<Figure size 1200x400 with 1 Axes>"
            ],
            "image/png": "[encoded data removed]"
          },
          "metadata": {}
        }
      ]
    },
    {
      "cell_type": "code",
      "source": [
        "from IPython.display import Audio\n",
        "audio_np = np.array(generated)\n",
        "audio_np = audio_np / np.max(np.abs(audio_np))\n",
        "sample_rate = 16000\n",
        "Audio(audio_np, rate=sample_rate)"
      ],
      "metadata": {
        "colab": {
          "base_uri": "https://localhost:8080/",
          "height": 75
        },
        "id": "lxplp40VGSfG",
        "outputId": "86c0492f-6800-4778-c1df-c0a7c13828be"
      },
      "execution_count": null,
      "outputs": [
        {
          "output_type": "execute_result",
          "data": {
            "text/plain": [
              "<IPython.lib.display.Audio object>"
            ],
            "text/html": [
              "\n",
              "                <audio  controls=\"controls\" >\n",
              "                    <source src=\"data:audio/wav;base64,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\" type=\"audio/wav\" />\n",
              "                    Your browser does not support the audio element.\n",
              "                </audio>\n",
              "              "
            ]
          },
          "metadata": {},
          "execution_count": 7
        }
      ]
    },
    {
      "cell_type": "markdown",
      "source": [
        "## Quality:\n",
        "The quality seems very poor as the amplitude changes only in the first couple milliseconds, and it is not spread amoung the full time of the audio clip. This causes it to only be able to make a quick sound, that does not resemble anything.\n",
        "\n",
        "\n",
        "### Suggestions to Improve:\n",
        "- I would increase the number of epochs, as 2 is not nearly enough for any meaningful training to occur.\n",
        "- I would increase the length of the training data and the output to be multiple seconds so that it can capture an actual sound, like a word or sentence being spoken.\n",
        "-Normalizing both the inputs and the outputs to be [-1,1] would help improve training even more.\n",
        "\n"
      ],
      "metadata": {
        "id": "oEsRQPQPHdt8"
      }
    }
  ]
}